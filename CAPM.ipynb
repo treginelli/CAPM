{
  "nbformat": 4,
  "nbformat_minor": 0,
  "metadata": {
    "colab": {
      "provenance": []
    },
    "kernelspec": {
      "name": "python3",
      "display_name": "Python 3"
    },
    "language_info": {
      "name": "python"
    }
  },
  "cells": [
    {
      "cell_type": "markdown",
      "source": [
        "## Se realiza el cálculo del **Beta** y la regresión lineal de **CAPM** correspondiente al ADR del banco BBVA con respecto al S&P500."
      ],
      "metadata": {
        "id": "zHbHHAvJWxc3"
      }
    },
    {
      "cell_type": "markdown",
      "source": [
        "Importo las librerías"
      ],
      "metadata": {
        "id": "1gTsqnU6M5pP"
      }
    },
    {
      "cell_type": "code",
      "execution_count": 1,
      "metadata": {
        "id": "UhR0zTdOLHJq"
      },
      "outputs": [],
      "source": [
        "import pandas as pd\n",
        "import yfinance as yf\n",
        "import statsmodels.api as sm"
      ]
    },
    {
      "cell_type": "markdown",
      "source": [
        "Defino los símbolos de las acciones"
      ],
      "metadata": {
        "id": "v6H5I0ylM-z7"
      }
    },
    {
      "cell_type": "code",
      "source": [
        "symbol_bbar_adr = \"BBAR\" # BBAR ADR en la bolsa de Nueva York (NYSE)\n",
        "symbol_snp500 = \"^GSPC\" # S&P 500"
      ],
      "metadata": {
        "id": "frAjwJrrNBIR"
      },
      "execution_count": 2,
      "outputs": []
    },
    {
      "cell_type": "markdown",
      "source": [
        "Defino las fechas de inicio y fin"
      ],
      "metadata": {
        "id": "CkzhORQaNDV6"
      }
    },
    {
      "cell_type": "code",
      "source": [
        "start_date = \"2018-05-19\"\n",
        "end_date = \"2023-05-20\""
      ],
      "metadata": {
        "id": "IOv3yKXQNFMW"
      },
      "execution_count": 3,
      "outputs": []
    },
    {
      "cell_type": "markdown",
      "source": [
        "Descargo los datos históricos de BBAR ADR y S&P500"
      ],
      "metadata": {
        "id": "EQxlH4d0NGpW"
      }
    },
    {
      "cell_type": "code",
      "source": [
        "bbar_adr_data = yf.download(symbol_bbar_adr, start=start_date, end=end_date)\n",
        "snp500_data = yf.download(symbol_snp500, start=start_date, end=end_date)"
      ],
      "metadata": {
        "colab": {
          "base_uri": "https://localhost:8080/"
        },
        "id": "FJ2SkQYLNIOd",
        "outputId": "933b7e49-de09-4ca0-8e3e-afb94e73a4b6"
      },
      "execution_count": 4,
      "outputs": [
        {
          "output_type": "stream",
          "name": "stderr",
          "text": [
            "[*********************100%%**********************]  1 of 1 completed\n",
            "[*********************100%%**********************]  1 of 1 completed\n"
          ]
        }
      ]
    },
    {
      "cell_type": "markdown",
      "source": [
        "Selecciono solo los precios de cierre ajustados"
      ],
      "metadata": {
        "id": "AeE-kplVOLIJ"
      }
    },
    {
      "cell_type": "code",
      "source": [
        "bbar_adr_prices = bbar_adr_data[\"Adj Close\"]\n",
        "snp500_prices = snp500_data[\"Adj Close\"]"
      ],
      "metadata": {
        "id": "x-v2bNSZOOCH"
      },
      "execution_count": 5,
      "outputs": []
    },
    {
      "cell_type": "code",
      "source": [
        "print(bbar_adr_prices.tail(n=5))"
      ],
      "metadata": {
        "colab": {
          "base_uri": "https://localhost:8080/"
        },
        "id": "3v764alxQRsK",
        "outputId": "56cea115-c680-4ffc-9545-bb3fc1631116"
      },
      "execution_count": 9,
      "outputs": [
        {
          "output_type": "stream",
          "name": "stdout",
          "text": [
            "Date\n",
            "2023-05-15    4.058721\n",
            "2023-05-16    3.845104\n",
            "2023-05-17    3.987514\n",
            "2023-05-18    3.827302\n",
            "2023-05-19    3.836203\n",
            "Name: Adj Close, dtype: float64\n"
          ]
        }
      ]
    },
    {
      "cell_type": "markdown",
      "source": [
        "Junto los precios de BBAR ADR y el S&P500 en un solo Dataframe"
      ],
      "metadata": {
        "id": "57vnmfqJOy6b"
      }
    },
    {
      "cell_type": "code",
      "source": [
        "data = pd.concat([bbar_adr_prices, snp500_prices], axis=1)\n",
        "data.columns = [\"BBAR\", \"S&P500\"]"
      ],
      "metadata": {
        "id": "H4vP05xDPPgq"
      },
      "execution_count": 6,
      "outputs": []
    },
    {
      "cell_type": "markdown",
      "source": [
        "Remuestreo a frecuencia mensual y calculo los rendimientos mensuales"
      ],
      "metadata": {
        "id": "izQzy0qhPbU9"
      }
    },
    {
      "cell_type": "code",
      "source": [
        "monthly_data = data.resample(\"M\").last()  #Remuestreo al último día de cada mes\n",
        "monthly_returns = monthly_data.pct_change().dropna()  #Calculo los rendimientos mensuales"
      ],
      "metadata": {
        "id": "tj0UEjxhPmtF"
      },
      "execution_count": 7,
      "outputs": []
    },
    {
      "cell_type": "code",
      "source": [
        "monthly_returns.tail(n=5)"
      ],
      "metadata": {
        "colab": {
          "base_uri": "https://localhost:8080/",
          "height": 238
        },
        "id": "oM_jwKnpQdU2",
        "outputId": "8366c0c6-e1e0-4afe-c52b-196afbff5690"
      },
      "execution_count": 11,
      "outputs": [
        {
          "output_type": "execute_result",
          "data": {
            "text/plain": [
              "                BBAR    S&P500\n",
              "Date                          \n",
              "2023-01-31  0.192308  0.061753\n",
              "2023-02-28  0.098925 -0.026112\n",
              "2023-03-31 -0.232877  0.035052\n",
              "2023-04-30  0.091837  0.014642\n",
              "2023-05-31  0.007009  0.005396"
            ],
            "text/html": [
              "\n",
              "  <div id=\"df-77e0cf45-698d-4f72-aada-ec5886775e07\" class=\"colab-df-container\">\n",
              "    <div>\n",
              "<style scoped>\n",
              "    .dataframe tbody tr th:only-of-type {\n",
              "        vertical-align: middle;\n",
              "    }\n",
              "\n",
              "    .dataframe tbody tr th {\n",
              "        vertical-align: top;\n",
              "    }\n",
              "\n",
              "    .dataframe thead th {\n",
              "        text-align: right;\n",
              "    }\n",
              "</style>\n",
              "<table border=\"1\" class=\"dataframe\">\n",
              "  <thead>\n",
              "    <tr style=\"text-align: right;\">\n",
              "      <th></th>\n",
              "      <th>BBAR</th>\n",
              "      <th>S&amp;P500</th>\n",
              "    </tr>\n",
              "    <tr>\n",
              "      <th>Date</th>\n",
              "      <th></th>\n",
              "      <th></th>\n",
              "    </tr>\n",
              "  </thead>\n",
              "  <tbody>\n",
              "    <tr>\n",
              "      <th>2023-01-31</th>\n",
              "      <td>0.192308</td>\n",
              "      <td>0.061753</td>\n",
              "    </tr>\n",
              "    <tr>\n",
              "      <th>2023-02-28</th>\n",
              "      <td>0.098925</td>\n",
              "      <td>-0.026112</td>\n",
              "    </tr>\n",
              "    <tr>\n",
              "      <th>2023-03-31</th>\n",
              "      <td>-0.232877</td>\n",
              "      <td>0.035052</td>\n",
              "    </tr>\n",
              "    <tr>\n",
              "      <th>2023-04-30</th>\n",
              "      <td>0.091837</td>\n",
              "      <td>0.014642</td>\n",
              "    </tr>\n",
              "    <tr>\n",
              "      <th>2023-05-31</th>\n",
              "      <td>0.007009</td>\n",
              "      <td>0.005396</td>\n",
              "    </tr>\n",
              "  </tbody>\n",
              "</table>\n",
              "</div>\n",
              "    <div class=\"colab-df-buttons\">\n",
              "\n",
              "  <div class=\"colab-df-container\">\n",
              "    <button class=\"colab-df-convert\" onclick=\"convertToInteractive('df-77e0cf45-698d-4f72-aada-ec5886775e07')\"\n",
              "            title=\"Convert this dataframe to an interactive table.\"\n",
              "            style=\"display:none;\">\n",
              "\n",
              "  <svg xmlns=\"http://www.w3.org/2000/svg\" height=\"24px\" viewBox=\"0 -960 960 960\">\n",
              "    <path d=\"M120-120v-720h720v720H120Zm60-500h600v-160H180v160Zm220 220h160v-160H400v160Zm0 220h160v-160H400v160ZM180-400h160v-160H180v160Zm440 0h160v-160H620v160ZM180-180h160v-160H180v160Zm440 0h160v-160H620v160Z\"/>\n",
              "  </svg>\n",
              "    </button>\n",
              "\n",
              "  <style>\n",
              "    .colab-df-container {\n",
              "      display:flex;\n",
              "      gap: 12px;\n",
              "    }\n",
              "\n",
              "    .colab-df-convert {\n",
              "      background-color: #E8F0FE;\n",
              "      border: none;\n",
              "      border-radius: 50%;\n",
              "      cursor: pointer;\n",
              "      display: none;\n",
              "      fill: #1967D2;\n",
              "      height: 32px;\n",
              "      padding: 0 0 0 0;\n",
              "      width: 32px;\n",
              "    }\n",
              "\n",
              "    .colab-df-convert:hover {\n",
              "      background-color: #E2EBFA;\n",
              "      box-shadow: 0px 1px 2px rgba(60, 64, 67, 0.3), 0px 1px 3px 1px rgba(60, 64, 67, 0.15);\n",
              "      fill: #174EA6;\n",
              "    }\n",
              "\n",
              "    .colab-df-buttons div {\n",
              "      margin-bottom: 4px;\n",
              "    }\n",
              "\n",
              "    [theme=dark] .colab-df-convert {\n",
              "      background-color: #3B4455;\n",
              "      fill: #D2E3FC;\n",
              "    }\n",
              "\n",
              "    [theme=dark] .colab-df-convert:hover {\n",
              "      background-color: #434B5C;\n",
              "      box-shadow: 0px 1px 3px 1px rgba(0, 0, 0, 0.15);\n",
              "      filter: drop-shadow(0px 1px 2px rgba(0, 0, 0, 0.3));\n",
              "      fill: #FFFFFF;\n",
              "    }\n",
              "  </style>\n",
              "\n",
              "    <script>\n",
              "      const buttonEl =\n",
              "        document.querySelector('#df-77e0cf45-698d-4f72-aada-ec5886775e07 button.colab-df-convert');\n",
              "      buttonEl.style.display =\n",
              "        google.colab.kernel.accessAllowed ? 'block' : 'none';\n",
              "\n",
              "      async function convertToInteractive(key) {\n",
              "        const element = document.querySelector('#df-77e0cf45-698d-4f72-aada-ec5886775e07');\n",
              "        const dataTable =\n",
              "          await google.colab.kernel.invokeFunction('convertToInteractive',\n",
              "                                                    [key], {});\n",
              "        if (!dataTable) return;\n",
              "\n",
              "        const docLinkHtml = 'Like what you see? Visit the ' +\n",
              "          '<a target=\"_blank\" href=https://colab.research.google.com/notebooks/data_table.ipynb>data table notebook</a>'\n",
              "          + ' to learn more about interactive tables.';\n",
              "        element.innerHTML = '';\n",
              "        dataTable['output_type'] = 'display_data';\n",
              "        await google.colab.output.renderOutput(dataTable, element);\n",
              "        const docLink = document.createElement('div');\n",
              "        docLink.innerHTML = docLinkHtml;\n",
              "        element.appendChild(docLink);\n",
              "      }\n",
              "    </script>\n",
              "  </div>\n",
              "\n",
              "\n",
              "<div id=\"df-b15ab726-275f-48d3-8664-31aeb36f13ad\">\n",
              "  <button class=\"colab-df-quickchart\" onclick=\"quickchart('df-b15ab726-275f-48d3-8664-31aeb36f13ad')\"\n",
              "            title=\"Suggest charts\"\n",
              "            style=\"display:none;\">\n",
              "\n",
              "<svg xmlns=\"http://www.w3.org/2000/svg\" height=\"24px\"viewBox=\"0 0 24 24\"\n",
              "     width=\"24px\">\n",
              "    <g>\n",
              "        <path d=\"M19 3H5c-1.1 0-2 .9-2 2v14c0 1.1.9 2 2 2h14c1.1 0 2-.9 2-2V5c0-1.1-.9-2-2-2zM9 17H7v-7h2v7zm4 0h-2V7h2v10zm4 0h-2v-4h2v4z\"/>\n",
              "    </g>\n",
              "</svg>\n",
              "  </button>\n",
              "\n",
              "<style>\n",
              "  .colab-df-quickchart {\n",
              "      --bg-color: #E8F0FE;\n",
              "      --fill-color: #1967D2;\n",
              "      --hover-bg-color: #E2EBFA;\n",
              "      --hover-fill-color: #174EA6;\n",
              "      --disabled-fill-color: #AAA;\n",
              "      --disabled-bg-color: #DDD;\n",
              "  }\n",
              "\n",
              "  [theme=dark] .colab-df-quickchart {\n",
              "      --bg-color: #3B4455;\n",
              "      --fill-color: #D2E3FC;\n",
              "      --hover-bg-color: #434B5C;\n",
              "      --hover-fill-color: #FFFFFF;\n",
              "      --disabled-bg-color: #3B4455;\n",
              "      --disabled-fill-color: #666;\n",
              "  }\n",
              "\n",
              "  .colab-df-quickchart {\n",
              "    background-color: var(--bg-color);\n",
              "    border: none;\n",
              "    border-radius: 50%;\n",
              "    cursor: pointer;\n",
              "    display: none;\n",
              "    fill: var(--fill-color);\n",
              "    height: 32px;\n",
              "    padding: 0;\n",
              "    width: 32px;\n",
              "  }\n",
              "\n",
              "  .colab-df-quickchart:hover {\n",
              "    background-color: var(--hover-bg-color);\n",
              "    box-shadow: 0 1px 2px rgba(60, 64, 67, 0.3), 0 1px 3px 1px rgba(60, 64, 67, 0.15);\n",
              "    fill: var(--button-hover-fill-color);\n",
              "  }\n",
              "\n",
              "  .colab-df-quickchart-complete:disabled,\n",
              "  .colab-df-quickchart-complete:disabled:hover {\n",
              "    background-color: var(--disabled-bg-color);\n",
              "    fill: var(--disabled-fill-color);\n",
              "    box-shadow: none;\n",
              "  }\n",
              "\n",
              "  .colab-df-spinner {\n",
              "    border: 2px solid var(--fill-color);\n",
              "    border-color: transparent;\n",
              "    border-bottom-color: var(--fill-color);\n",
              "    animation:\n",
              "      spin 1s steps(1) infinite;\n",
              "  }\n",
              "\n",
              "  @keyframes spin {\n",
              "    0% {\n",
              "      border-color: transparent;\n",
              "      border-bottom-color: var(--fill-color);\n",
              "      border-left-color: var(--fill-color);\n",
              "    }\n",
              "    20% {\n",
              "      border-color: transparent;\n",
              "      border-left-color: var(--fill-color);\n",
              "      border-top-color: var(--fill-color);\n",
              "    }\n",
              "    30% {\n",
              "      border-color: transparent;\n",
              "      border-left-color: var(--fill-color);\n",
              "      border-top-color: var(--fill-color);\n",
              "      border-right-color: var(--fill-color);\n",
              "    }\n",
              "    40% {\n",
              "      border-color: transparent;\n",
              "      border-right-color: var(--fill-color);\n",
              "      border-top-color: var(--fill-color);\n",
              "    }\n",
              "    60% {\n",
              "      border-color: transparent;\n",
              "      border-right-color: var(--fill-color);\n",
              "    }\n",
              "    80% {\n",
              "      border-color: transparent;\n",
              "      border-right-color: var(--fill-color);\n",
              "      border-bottom-color: var(--fill-color);\n",
              "    }\n",
              "    90% {\n",
              "      border-color: transparent;\n",
              "      border-bottom-color: var(--fill-color);\n",
              "    }\n",
              "  }\n",
              "</style>\n",
              "\n",
              "  <script>\n",
              "    async function quickchart(key) {\n",
              "      const quickchartButtonEl =\n",
              "        document.querySelector('#' + key + ' button');\n",
              "      quickchartButtonEl.disabled = true;  // To prevent multiple clicks.\n",
              "      quickchartButtonEl.classList.add('colab-df-spinner');\n",
              "      try {\n",
              "        const charts = await google.colab.kernel.invokeFunction(\n",
              "            'suggestCharts', [key], {});\n",
              "      } catch (error) {\n",
              "        console.error('Error during call to suggestCharts:', error);\n",
              "      }\n",
              "      quickchartButtonEl.classList.remove('colab-df-spinner');\n",
              "      quickchartButtonEl.classList.add('colab-df-quickchart-complete');\n",
              "    }\n",
              "    (() => {\n",
              "      let quickchartButtonEl =\n",
              "        document.querySelector('#df-b15ab726-275f-48d3-8664-31aeb36f13ad button');\n",
              "      quickchartButtonEl.style.display =\n",
              "        google.colab.kernel.accessAllowed ? 'block' : 'none';\n",
              "    })();\n",
              "  </script>\n",
              "</div>\n",
              "\n",
              "    </div>\n",
              "  </div>\n"
            ],
            "application/vnd.google.colaboratory.intrinsic+json": {
              "type": "dataframe",
              "summary": "{\n  \"name\": \"monthly_returns\",\n  \"rows\": 5,\n  \"fields\": [\n    {\n      \"column\": \"Date\",\n      \"properties\": {\n        \"dtype\": \"date\",\n        \"min\": \"2023-01-31 00:00:00\",\n        \"max\": \"2023-05-31 00:00:00\",\n        \"num_unique_values\": 5,\n        \"samples\": [\n          \"2023-02-28 00:00:00\",\n          \"2023-05-31 00:00:00\",\n          \"2023-03-31 00:00:00\"\n        ],\n        \"semantic_type\": \"\",\n        \"description\": \"\"\n      }\n    },\n    {\n      \"column\": \"BBAR\",\n      \"properties\": {\n        \"dtype\": \"number\",\n        \"std\": 0.16166368530054112,\n        \"min\": -0.23287666996212153,\n        \"max\": 0.1923079089242834,\n        \"num_unique_values\": 5,\n        \"samples\": [\n          0.09892450819436038,\n          0.007009234954161947,\n          -0.23287666996212153\n        ],\n        \"semantic_type\": \"\",\n        \"description\": \"\"\n      }\n    },\n    {\n      \"column\": \"S&P500\",\n      \"properties\": {\n        \"dtype\": \"number\",\n        \"std\": 0.03286716106304719,\n        \"min\": -0.02611249393181858,\n        \"max\": 0.0617528578346791,\n        \"num_unique_values\": 5,\n        \"samples\": [\n          -0.02611249393181858,\n          0.005396356405450442,\n          0.03505161257710898\n        ],\n        \"semantic_type\": \"\",\n        \"description\": \"\"\n      }\n    }\n  ]\n}"
            }
          },
          "metadata": {},
          "execution_count": 11
        }
      ]
    },
    {
      "cell_type": "markdown",
      "source": [
        "Calculo el Beta de bbar"
      ],
      "metadata": {
        "id": "Ng2sxUYjR3uH"
      }
    },
    {
      "cell_type": "code",
      "source": [
        "covarianza = monthly_returns[\"BBAR\"].cov(monthly_returns[\"S&P500\"])\n",
        "varianza_syp = monthly_returns[\"S&P500\"].var()\n",
        "beta = covarianza / varianza_syp\n",
        "print(\"Beta = \",beta)"
      ],
      "metadata": {
        "colab": {
          "base_uri": "https://localhost:8080/"
        },
        "id": "zKEPgHaMR5ul",
        "outputId": "bea074d4-281b-4469-c631-8d69235c8f1a"
      },
      "execution_count": 12,
      "outputs": [
        {
          "output_type": "stream",
          "name": "stdout",
          "text": [
            "Beta =  1.1354753330224172\n"
          ]
        }
      ]
    },
    {
      "cell_type": "markdown",
      "source": [
        "Regresión CAPM"
      ],
      "metadata": {
        "id": "Yx2kLsQlUbbr"
      }
    },
    {
      "cell_type": "code",
      "source": [
        "# Agrego una columna de unos para el intercepto en la regresión\n",
        "x = sm.add_constant(monthly_returns[\"S&P500\"])\n",
        "\n",
        "# Regresión Lineal\n",
        "model = sm.OLS(monthly_returns[\"BBAR\"], x)\n",
        "results = model.fit()\n",
        "\n",
        "# Imprimo los resultados\n",
        "print(results.summary())"
      ],
      "metadata": {
        "colab": {
          "base_uri": "https://localhost:8080/"
        },
        "id": "q6SEuus0Ud_U",
        "outputId": "51108e0c-0b96-4818-bdc7-62f4d1b141a2"
      },
      "execution_count": 13,
      "outputs": [
        {
          "output_type": "stream",
          "name": "stdout",
          "text": [
            "                            OLS Regression Results                            \n",
            "==============================================================================\n",
            "Dep. Variable:                   BBAR   R-squared:                       0.097\n",
            "Model:                            OLS   Adj. R-squared:                  0.082\n",
            "Method:                 Least Squares   F-statistic:                     6.251\n",
            "Date:                Sun, 30 Jun 2024   Prob (F-statistic):             0.0153\n",
            "Time:                        18:05:53   Log-Likelihood:                 16.323\n",
            "No. Observations:                  60   AIC:                            -28.65\n",
            "Df Residuals:                      58   BIC:                            -24.46\n",
            "Df Model:                           1                                         \n",
            "Covariance Type:            nonrobust                                         \n",
            "==============================================================================\n",
            "                 coef    std err          t      P>|t|      [0.025      0.975]\n",
            "------------------------------------------------------------------------------\n",
            "const         -0.0074      0.025     -0.301      0.765      -0.056       0.042\n",
            "S&P500         1.1355      0.454      2.500      0.015       0.226       2.045\n",
            "==============================================================================\n",
            "Omnibus:                        3.994   Durbin-Watson:                   2.136\n",
            "Prob(Omnibus):                  0.136   Jarque-Bera (JB):                3.470\n",
            "Skew:                          -0.301   Prob(JB):                        0.176\n",
            "Kurtosis:                       4.013   Cond. No.                         18.8\n",
            "==============================================================================\n",
            "\n",
            "Notes:\n",
            "[1] Standard Errors assume that the covariance matrix of the errors is correctly specified.\n"
          ]
        }
      ]
    }
  ]
}